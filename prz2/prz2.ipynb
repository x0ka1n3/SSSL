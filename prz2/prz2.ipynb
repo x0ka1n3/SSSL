{
  "cells": [
    {
      "cell_type": "markdown",
      "metadata": {
        "id": "4t5lSR1_eve_"
      },
      "source": [
        "# Практическая работа №2\n",
        "\n",
        "## Тема: Анализ логов\n",
        "\n",
        "Выполнил Искяндяров Ильдар Тагирович\n",
        "группа ББМО-01-23\n",
        "\n",
        "Вариант №4: 19 mod 16 + 1 = 4\n"
      ]
    },
    {
      "cell_type": "markdown",
      "metadata": {
        "id": "wFqd64wOgP7e"
      },
      "source": [
        "### Клонирование репозитория с логами для их последующего анализа"
      ]
    },
    {
      "cell_type": "code",
      "execution_count": 1,
      "metadata": {
        "colab": {
          "base_uri": "https://localhost:8080/"
        },
        "id": "wZos4upaeivl",
        "outputId": "b2f7beb9-3a99-4dce-b0fd-63b68e486d4c"
      },
      "outputs": [
        {
          "name": "stdout",
          "output_type": "stream",
          "text": [
            "Cloning into 'loghub'...\n",
            "remote: Enumerating objects: 575, done.\u001b[K\n",
            "remote: Counting objects: 100% (174/174), done.\u001b[K\n",
            "remote: Compressing objects: 100% (41/41), done.\u001b[K\n",
            "remote: Total 575 (delta 146), reused 136 (delta 133), pack-reused 401 (from 1)\u001b[K\n",
            "Receiving objects: 100% (575/575), 7.27 MiB | 10.00 MiB/s, done.\n",
            "Resolving deltas: 100% (267/267), done.\n"
          ]
        }
      ],
      "source": [
        "import os.path\n",
        "\n",
        "if not os.path.isdir(\"./loghub/\"):\n",
        "    !git clone https://github.com/logpai/loghub"
      ]
    },
    {
      "cell_type": "markdown",
      "metadata": {
        "id": "SNaQLrk7hMTd"
      },
      "source": [
        "### Задание регулярного выражения для парсинга логов\n",
        "\n",
        "Пояснение к регулярному выражению:\n",
        "\n",
        "Для примера возьмем строчку из логов HDFS (Hadoop Distributed File System):\n",
        "\n",
        "```\n",
        "081109 203615 148 INFO dfs.DataNode$PacketResponder: PacketResponder 1 for block blk_38865049064139660 terminating\n",
        "```\n",
        "\n",
        "Регулярное выражение извлекает все поля записи лога и делит его на следующие группы:\n",
        "\n",
        "- Дата  в формате `DDMMYY`: `(\\d{6})`\n",
        "- Время в формате `HHMMSS`: `(\\d{6})`\n",
        "- PID - ID процесса, целое число: `(\\d*?)`\n",
        "- Уровень логирования - 6 возможных типов (`FATAL, ERROR, WARN, INFO, DEBUG и TRACE`): (`INFO|WARN|ERROR|FATAL|DEBUG|TRACE`)\n",
        "- Компонент - имя компонента, создавшего запись в логе, отделённое от сообщения двоеточием: `(.*?):`\n",
        "- Сообщение - непосредственное содержание записи, все символы до конца строки: `(.*)`"
      ]
    },
    {
      "cell_type": "code",
      "execution_count": 2,
      "metadata": {
        "id": "bkcEZRYkhRoE"
      },
      "outputs": [],
      "source": [
        "import re\n",
        "\n",
        "pattern = r'(\\d{6})\\s(\\d{6})\\s(\\d*?)\\s(INFO|WARN|ERROR|TRACE|DEBUG)\\s(.*?):\\s(.*)'"
      ]
    },
    {
      "cell_type": "markdown",
      "metadata": {
        "id": "VmeFy43IkVt5"
      },
      "source": [
        "### Инициализация базы данных\n",
        "\n",
        "В среде выполнения создаётся каталог `./db`, где будет храниться файл базы данных SQLite"
      ]
    },
    {
      "cell_type": "code",
      "execution_count": 3,
      "metadata": {
        "id": "5hmbxA8okbaw"
      },
      "outputs": [],
      "source": [
        "if not os.path.isdir(\"./db/\"):\n",
        "  os.makedirs(\"./db/\")"
      ]
    },
    {
      "cell_type": "code",
      "execution_count": 4,
      "metadata": {
        "id": "WGCBvlCPkrK7"
      },
      "outputs": [],
      "source": [
        "import sqlite3\n",
        "\n",
        "# путь к файлу с БД\n",
        "db_path = './db/log-analysis.db'\n",
        "\n",
        "# подключение к БД\n",
        "connection = sqlite3.connect(db_path)\n",
        "# создание курсора\n",
        "cursor = connection.cursor()\n",
        "\n",
        "# очистка БД, если таблица уже создана\n",
        "cursor.execute(\"DROP TABLE IF EXISTS logs\")\n",
        "# создание таблицы\n",
        "cursor.execute(\"CREATE TABLE logs (id INTEGER PRIMARY KEY AUTOINCREMENT, datetime text, pid int, msg_type text, component text, message text)\")\n",
        "\n",
        "# сохранение изменений\n",
        "connection.commit()\n",
        "# закрытие курсора\n",
        "cursor.close()\n",
        "# закрытие подключения к БД\n",
        "connection.close()"
      ]
    },
    {
      "cell_type": "markdown",
      "metadata": {
        "id": "0UJJek1U1E-g"
      },
      "source": [
        "### Парсинг лога и сохранение записей в БД"
      ]
    },
    {
      "cell_type": "code",
      "execution_count": 5,
      "metadata": {
        "id": "TrtuuANegnRr"
      },
      "outputs": [],
      "source": [
        "# подключение к БД и создание курсора\n",
        "connection = sqlite3.connect(db_path)\n",
        "cursor = connection.cursor()\n",
        "\n",
        "# очистка таблицы во избежание дублирования данных\n",
        "cursor.execute(\"DELETE FROM logs\")\n",
        "\n",
        "# парсинг файла с логом\n",
        "with open('./loghub/HDFS/HDFS_2k.log', 'r', encoding='utf-8') as log_file:\n",
        "    for line in log_file:\n",
        "        log_match = re.match(pattern, line)\n",
        "        if log_match:\n",
        "            date = log_match.group(1)\n",
        "            time = log_match.group(2)\n",
        "            datetime = f\"{date} {time}\" # формирование полной даты по формату ISO8601\n",
        "            pid = log_match.group(3)\n",
        "            msg_type = log_match.group(4) # уровень логирования\n",
        "            component = log_match.group(5)\n",
        "            message = log_match.group(6)\n",
        "            values = (datetime, pid, msg_type, component, message) # создание объекта для подстановки в SQL-запрос\n",
        "            sql = \"INSERT INTO logs (datetime, pid, msg_type, component, message) VALUES (?, ?, ?, ?, ?)\"\n",
        "            cursor.execute(sql, values) # запись данных в БД\n",
        "\n",
        "connection.commit()\n",
        "cursor.close()\n",
        "connection.close()"
      ]
    },
    {
      "cell_type": "markdown",
      "metadata": {
        "id": "yvnIcXTe1PdP"
      },
      "source": [
        "### Чтение записей из БД"
      ]
    },
    {
      "cell_type": "code",
      "execution_count": 6,
      "metadata": {
        "colab": {
          "base_uri": "https://localhost:8080/",
          "height": 424
        },
        "id": "R7OhIUQZp_ha",
        "outputId": "13874c3f-8c9e-4e6e-f1b6-7cb94828f5e0"
      },
      "outputs": [
        {
          "data": {
            "application/vnd.google.colaboratory.intrinsic+json": {
              "summary": "{\n  \"name\": \"log_df\",\n  \"rows\": 2000,\n  \"fields\": [\n    {\n      \"column\": \"id\",\n      \"properties\": {\n        \"dtype\": \"number\",\n        \"std\": 577,\n        \"min\": 1,\n        \"max\": 2000,\n        \"num_unique_values\": 2000,\n        \"samples\": [\n          1861,\n          354,\n          1334\n        ],\n        \"semantic_type\": \"\",\n        \"description\": \"\"\n      }\n    },\n    {\n      \"column\": \"Date\",\n      \"properties\": {\n        \"dtype\": \"object\",\n        \"num_unique_values\": 1883,\n        \"samples\": [\n          \"081111 070458\",\n          \"081111 042009\",\n          \"081110 210259\"\n        ],\n        \"semantic_type\": \"\",\n        \"description\": \"\"\n      }\n    },\n    {\n      \"column\": \"PID\",\n      \"properties\": {\n        \"dtype\": \"number\",\n        \"std\": 9053,\n        \"min\": 13,\n        \"max\": 26895,\n        \"num_unique_values\": 1054,\n        \"samples\": [\n          8197,\n          26319,\n          22602\n        ],\n        \"semantic_type\": \"\",\n        \"description\": \"\"\n      }\n    },\n    {\n      \"column\": \"Log level\",\n      \"properties\": {\n        \"dtype\": \"category\",\n        \"num_unique_values\": 2,\n        \"samples\": [\n          \"WARN\",\n          \"INFO\"\n        ],\n        \"semantic_type\": \"\",\n        \"description\": \"\"\n      }\n    },\n    {\n      \"column\": \"Component\",\n      \"properties\": {\n        \"dtype\": \"category\",\n        \"num_unique_values\": 6,\n        \"samples\": [\n          \"dfs.DataNode$PacketResponder\",\n          \"dfs.FSNamesystem\"\n        ],\n        \"semantic_type\": \"\",\n        \"description\": \"\"\n      }\n    },\n    {\n      \"column\": \"Message\",\n      \"properties\": {\n        \"dtype\": \"string\",\n        \"num_unique_values\": 2000,\n        \"samples\": [\n          \"BLOCK* NameSystem.delete: blk_-793506372912437289 is added to invalidSet of 10.250.17.225:50010\",\n          \"10.251.126.22:50010:Got exception while serving blk_1686195200514944346 to /10.250.6.223:\"\n        ],\n        \"semantic_type\": \"\",\n        \"description\": \"\"\n      }\n    }\n  ]\n}",
              "type": "dataframe",
              "variable_name": "log_df"
            },
            "text/html": [
              "\n",
              "  <div id=\"df-1084f0ca-2f66-4948-8f5b-9084513f9655\" class=\"colab-df-container\">\n",
              "    <div>\n",
              "<style scoped>\n",
              "    .dataframe tbody tr th:only-of-type {\n",
              "        vertical-align: middle;\n",
              "    }\n",
              "\n",
              "    .dataframe tbody tr th {\n",
              "        vertical-align: top;\n",
              "    }\n",
              "\n",
              "    .dataframe thead th {\n",
              "        text-align: right;\n",
              "    }\n",
              "</style>\n",
              "<table border=\"1\" class=\"dataframe\">\n",
              "  <thead>\n",
              "    <tr style=\"text-align: right;\">\n",
              "      <th></th>\n",
              "      <th>id</th>\n",
              "      <th>Date</th>\n",
              "      <th>PID</th>\n",
              "      <th>Log level</th>\n",
              "      <th>Component</th>\n",
              "      <th>Message</th>\n",
              "    </tr>\n",
              "  </thead>\n",
              "  <tbody>\n",
              "    <tr>\n",
              "      <th>0</th>\n",
              "      <td>1</td>\n",
              "      <td>081109 203615</td>\n",
              "      <td>148</td>\n",
              "      <td>INFO</td>\n",
              "      <td>dfs.DataNode$PacketResponder</td>\n",
              "      <td>PacketResponder 1 for block blk_38865049064139...</td>\n",
              "    </tr>\n",
              "    <tr>\n",
              "      <th>1</th>\n",
              "      <td>2</td>\n",
              "      <td>081109 203807</td>\n",
              "      <td>222</td>\n",
              "      <td>INFO</td>\n",
              "      <td>dfs.DataNode$PacketResponder</td>\n",
              "      <td>PacketResponder 0 for block blk_-6952295868487...</td>\n",
              "    </tr>\n",
              "    <tr>\n",
              "      <th>2</th>\n",
              "      <td>3</td>\n",
              "      <td>081109 204005</td>\n",
              "      <td>35</td>\n",
              "      <td>INFO</td>\n",
              "      <td>dfs.FSNamesystem</td>\n",
              "      <td>BLOCK* NameSystem.addStoredBlock: blockMap upd...</td>\n",
              "    </tr>\n",
              "    <tr>\n",
              "      <th>3</th>\n",
              "      <td>4</td>\n",
              "      <td>081109 204015</td>\n",
              "      <td>308</td>\n",
              "      <td>INFO</td>\n",
              "      <td>dfs.DataNode$PacketResponder</td>\n",
              "      <td>PacketResponder 2 for block blk_82291938032499...</td>\n",
              "    </tr>\n",
              "    <tr>\n",
              "      <th>4</th>\n",
              "      <td>5</td>\n",
              "      <td>081109 204106</td>\n",
              "      <td>329</td>\n",
              "      <td>INFO</td>\n",
              "      <td>dfs.DataNode$PacketResponder</td>\n",
              "      <td>PacketResponder 2 for block blk_-6670958622368...</td>\n",
              "    </tr>\n",
              "    <tr>\n",
              "      <th>...</th>\n",
              "      <td>...</td>\n",
              "      <td>...</td>\n",
              "      <td>...</td>\n",
              "      <td>...</td>\n",
              "      <td>...</td>\n",
              "      <td>...</td>\n",
              "    </tr>\n",
              "    <tr>\n",
              "      <th>1995</th>\n",
              "      <td>1996</td>\n",
              "      <td>081111 101621</td>\n",
              "      <td>24902</td>\n",
              "      <td>INFO</td>\n",
              "      <td>dfs.DataNode$DataXceiver</td>\n",
              "      <td>Receiving block blk_4198733391373026104 src: /...</td>\n",
              "    </tr>\n",
              "    <tr>\n",
              "      <th>1996</th>\n",
              "      <td>1997</td>\n",
              "      <td>081111 101735</td>\n",
              "      <td>26595</td>\n",
              "      <td>INFO</td>\n",
              "      <td>dfs.DataNode$PacketResponder</td>\n",
              "      <td>Received block blk_-5815145248455404269 of siz...</td>\n",
              "    </tr>\n",
              "    <tr>\n",
              "      <th>1997</th>\n",
              "      <td>1998</td>\n",
              "      <td>081111 101804</td>\n",
              "      <td>26494</td>\n",
              "      <td>INFO</td>\n",
              "      <td>dfs.DataNode$DataXceiver</td>\n",
              "      <td>Receiving block blk_-295306975763175640 src: /...</td>\n",
              "    </tr>\n",
              "    <tr>\n",
              "      <th>1998</th>\n",
              "      <td>1999</td>\n",
              "      <td>081111 101954</td>\n",
              "      <td>26414</td>\n",
              "      <td>INFO</td>\n",
              "      <td>dfs.DataNode$PacketResponder</td>\n",
              "      <td>PacketResponder 0 for block blk_52257196770490...</td>\n",
              "    </tr>\n",
              "    <tr>\n",
              "      <th>1999</th>\n",
              "      <td>2000</td>\n",
              "      <td>081111 102017</td>\n",
              "      <td>26347</td>\n",
              "      <td>INFO</td>\n",
              "      <td>dfs.DataNode$DataXceiver</td>\n",
              "      <td>Receiving block blk_4343207286455274569 src: /...</td>\n",
              "    </tr>\n",
              "  </tbody>\n",
              "</table>\n",
              "<p>2000 rows × 6 columns</p>\n",
              "</div>\n",
              "    <div class=\"colab-df-buttons\">\n",
              "\n",
              "  <div class=\"colab-df-container\">\n",
              "    <button class=\"colab-df-convert\" onclick=\"convertToInteractive('df-1084f0ca-2f66-4948-8f5b-9084513f9655')\"\n",
              "            title=\"Convert this dataframe to an interactive table.\"\n",
              "            style=\"display:none;\">\n",
              "\n",
              "  <svg xmlns=\"http://www.w3.org/2000/svg\" height=\"24px\" viewBox=\"0 -960 960 960\">\n",
              "    <path d=\"M120-120v-720h720v720H120Zm60-500h600v-160H180v160Zm220 220h160v-160H400v160Zm0 220h160v-160H400v160ZM180-400h160v-160H180v160Zm440 0h160v-160H620v160ZM180-180h160v-160H180v160Zm440 0h160v-160H620v160Z\"/>\n",
              "  </svg>\n",
              "    </button>\n",
              "\n",
              "  <style>\n",
              "    .colab-df-container {\n",
              "      display:flex;\n",
              "      gap: 12px;\n",
              "    }\n",
              "\n",
              "    .colab-df-convert {\n",
              "      background-color: #E8F0FE;\n",
              "      border: none;\n",
              "      border-radius: 50%;\n",
              "      cursor: pointer;\n",
              "      display: none;\n",
              "      fill: #1967D2;\n",
              "      height: 32px;\n",
              "      padding: 0 0 0 0;\n",
              "      width: 32px;\n",
              "    }\n",
              "\n",
              "    .colab-df-convert:hover {\n",
              "      background-color: #E2EBFA;\n",
              "      box-shadow: 0px 1px 2px rgba(60, 64, 67, 0.3), 0px 1px 3px 1px rgba(60, 64, 67, 0.15);\n",
              "      fill: #174EA6;\n",
              "    }\n",
              "\n",
              "    .colab-df-buttons div {\n",
              "      margin-bottom: 4px;\n",
              "    }\n",
              "\n",
              "    [theme=dark] .colab-df-convert {\n",
              "      background-color: #3B4455;\n",
              "      fill: #D2E3FC;\n",
              "    }\n",
              "\n",
              "    [theme=dark] .colab-df-convert:hover {\n",
              "      background-color: #434B5C;\n",
              "      box-shadow: 0px 1px 3px 1px rgba(0, 0, 0, 0.15);\n",
              "      filter: drop-shadow(0px 1px 2px rgba(0, 0, 0, 0.3));\n",
              "      fill: #FFFFFF;\n",
              "    }\n",
              "  </style>\n",
              "\n",
              "    <script>\n",
              "      const buttonEl =\n",
              "        document.querySelector('#df-1084f0ca-2f66-4948-8f5b-9084513f9655 button.colab-df-convert');\n",
              "      buttonEl.style.display =\n",
              "        google.colab.kernel.accessAllowed ? 'block' : 'none';\n",
              "\n",
              "      async function convertToInteractive(key) {\n",
              "        const element = document.querySelector('#df-1084f0ca-2f66-4948-8f5b-9084513f9655');\n",
              "        const dataTable =\n",
              "          await google.colab.kernel.invokeFunction('convertToInteractive',\n",
              "                                                    [key], {});\n",
              "        if (!dataTable) return;\n",
              "\n",
              "        const docLinkHtml = 'Like what you see? Visit the ' +\n",
              "          '<a target=\"_blank\" href=https://colab.research.google.com/notebooks/data_table.ipynb>data table notebook</a>'\n",
              "          + ' to learn more about interactive tables.';\n",
              "        element.innerHTML = '';\n",
              "        dataTable['output_type'] = 'display_data';\n",
              "        await google.colab.output.renderOutput(dataTable, element);\n",
              "        const docLink = document.createElement('div');\n",
              "        docLink.innerHTML = docLinkHtml;\n",
              "        element.appendChild(docLink);\n",
              "      }\n",
              "    </script>\n",
              "  </div>\n",
              "\n",
              "\n",
              "<div id=\"df-94ebb9e6-e201-411a-8fec-2535bc91c6aa\">\n",
              "  <button class=\"colab-df-quickchart\" onclick=\"quickchart('df-94ebb9e6-e201-411a-8fec-2535bc91c6aa')\"\n",
              "            title=\"Suggest charts\"\n",
              "            style=\"display:none;\">\n",
              "\n",
              "<svg xmlns=\"http://www.w3.org/2000/svg\" height=\"24px\"viewBox=\"0 0 24 24\"\n",
              "     width=\"24px\">\n",
              "    <g>\n",
              "        <path d=\"M19 3H5c-1.1 0-2 .9-2 2v14c0 1.1.9 2 2 2h14c1.1 0 2-.9 2-2V5c0-1.1-.9-2-2-2zM9 17H7v-7h2v7zm4 0h-2V7h2v10zm4 0h-2v-4h2v4z\"/>\n",
              "    </g>\n",
              "</svg>\n",
              "  </button>\n",
              "\n",
              "<style>\n",
              "  .colab-df-quickchart {\n",
              "      --bg-color: #E8F0FE;\n",
              "      --fill-color: #1967D2;\n",
              "      --hover-bg-color: #E2EBFA;\n",
              "      --hover-fill-color: #174EA6;\n",
              "      --disabled-fill-color: #AAA;\n",
              "      --disabled-bg-color: #DDD;\n",
              "  }\n",
              "\n",
              "  [theme=dark] .colab-df-quickchart {\n",
              "      --bg-color: #3B4455;\n",
              "      --fill-color: #D2E3FC;\n",
              "      --hover-bg-color: #434B5C;\n",
              "      --hover-fill-color: #FFFFFF;\n",
              "      --disabled-bg-color: #3B4455;\n",
              "      --disabled-fill-color: #666;\n",
              "  }\n",
              "\n",
              "  .colab-df-quickchart {\n",
              "    background-color: var(--bg-color);\n",
              "    border: none;\n",
              "    border-radius: 50%;\n",
              "    cursor: pointer;\n",
              "    display: none;\n",
              "    fill: var(--fill-color);\n",
              "    height: 32px;\n",
              "    padding: 0;\n",
              "    width: 32px;\n",
              "  }\n",
              "\n",
              "  .colab-df-quickchart:hover {\n",
              "    background-color: var(--hover-bg-color);\n",
              "    box-shadow: 0 1px 2px rgba(60, 64, 67, 0.3), 0 1px 3px 1px rgba(60, 64, 67, 0.15);\n",
              "    fill: var(--button-hover-fill-color);\n",
              "  }\n",
              "\n",
              "  .colab-df-quickchart-complete:disabled,\n",
              "  .colab-df-quickchart-complete:disabled:hover {\n",
              "    background-color: var(--disabled-bg-color);\n",
              "    fill: var(--disabled-fill-color);\n",
              "    box-shadow: none;\n",
              "  }\n",
              "\n",
              "  .colab-df-spinner {\n",
              "    border: 2px solid var(--fill-color);\n",
              "    border-color: transparent;\n",
              "    border-bottom-color: var(--fill-color);\n",
              "    animation:\n",
              "      spin 1s steps(1) infinite;\n",
              "  }\n",
              "\n",
              "  @keyframes spin {\n",
              "    0% {\n",
              "      border-color: transparent;\n",
              "      border-bottom-color: var(--fill-color);\n",
              "      border-left-color: var(--fill-color);\n",
              "    }\n",
              "    20% {\n",
              "      border-color: transparent;\n",
              "      border-left-color: var(--fill-color);\n",
              "      border-top-color: var(--fill-color);\n",
              "    }\n",
              "    30% {\n",
              "      border-color: transparent;\n",
              "      border-left-color: var(--fill-color);\n",
              "      border-top-color: var(--fill-color);\n",
              "      border-right-color: var(--fill-color);\n",
              "    }\n",
              "    40% {\n",
              "      border-color: transparent;\n",
              "      border-right-color: var(--fill-color);\n",
              "      border-top-color: var(--fill-color);\n",
              "    }\n",
              "    60% {\n",
              "      border-color: transparent;\n",
              "      border-right-color: var(--fill-color);\n",
              "    }\n",
              "    80% {\n",
              "      border-color: transparent;\n",
              "      border-right-color: var(--fill-color);\n",
              "      border-bottom-color: var(--fill-color);\n",
              "    }\n",
              "    90% {\n",
              "      border-color: transparent;\n",
              "      border-bottom-color: var(--fill-color);\n",
              "    }\n",
              "  }\n",
              "</style>\n",
              "\n",
              "  <script>\n",
              "    async function quickchart(key) {\n",
              "      const quickchartButtonEl =\n",
              "        document.querySelector('#' + key + ' button');\n",
              "      quickchartButtonEl.disabled = true;  // To prevent multiple clicks.\n",
              "      quickchartButtonEl.classList.add('colab-df-spinner');\n",
              "      try {\n",
              "        const charts = await google.colab.kernel.invokeFunction(\n",
              "            'suggestCharts', [key], {});\n",
              "      } catch (error) {\n",
              "        console.error('Error during call to suggestCharts:', error);\n",
              "      }\n",
              "      quickchartButtonEl.classList.remove('colab-df-spinner');\n",
              "      quickchartButtonEl.classList.add('colab-df-quickchart-complete');\n",
              "    }\n",
              "    (() => {\n",
              "      let quickchartButtonEl =\n",
              "        document.querySelector('#df-94ebb9e6-e201-411a-8fec-2535bc91c6aa button');\n",
              "      quickchartButtonEl.style.display =\n",
              "        google.colab.kernel.accessAllowed ? 'block' : 'none';\n",
              "    })();\n",
              "  </script>\n",
              "</div>\n",
              "    </div>\n",
              "  </div>\n"
            ],
            "text/plain": [
              "        id           Date    PID Log level                     Component  \\\n",
              "0        1  081109 203615    148      INFO  dfs.DataNode$PacketResponder   \n",
              "1        2  081109 203807    222      INFO  dfs.DataNode$PacketResponder   \n",
              "2        3  081109 204005     35      INFO              dfs.FSNamesystem   \n",
              "3        4  081109 204015    308      INFO  dfs.DataNode$PacketResponder   \n",
              "4        5  081109 204106    329      INFO  dfs.DataNode$PacketResponder   \n",
              "...    ...            ...    ...       ...                           ...   \n",
              "1995  1996  081111 101621  24902      INFO      dfs.DataNode$DataXceiver   \n",
              "1996  1997  081111 101735  26595      INFO  dfs.DataNode$PacketResponder   \n",
              "1997  1998  081111 101804  26494      INFO      dfs.DataNode$DataXceiver   \n",
              "1998  1999  081111 101954  26414      INFO  dfs.DataNode$PacketResponder   \n",
              "1999  2000  081111 102017  26347      INFO      dfs.DataNode$DataXceiver   \n",
              "\n",
              "                                                Message  \n",
              "0     PacketResponder 1 for block blk_38865049064139...  \n",
              "1     PacketResponder 0 for block blk_-6952295868487...  \n",
              "2     BLOCK* NameSystem.addStoredBlock: blockMap upd...  \n",
              "3     PacketResponder 2 for block blk_82291938032499...  \n",
              "4     PacketResponder 2 for block blk_-6670958622368...  \n",
              "...                                                 ...  \n",
              "1995  Receiving block blk_4198733391373026104 src: /...  \n",
              "1996  Received block blk_-5815145248455404269 of siz...  \n",
              "1997  Receiving block blk_-295306975763175640 src: /...  \n",
              "1998  PacketResponder 0 for block blk_52257196770490...  \n",
              "1999  Receiving block blk_4343207286455274569 src: /...  \n",
              "\n",
              "[2000 rows x 6 columns]"
            ]
          },
          "execution_count": 6,
          "metadata": {},
          "output_type": "execute_result"
        }
      ],
      "source": [
        "import pandas as pd\n",
        "\n",
        "# подключение к БД и создание курсора\n",
        "connection = sqlite3.connect(db_path)\n",
        "cursor = connection.cursor()\n",
        "\n",
        "# выборка всех записей из таблицы\n",
        "cursor.execute(\"SELECT * FROM logs\")\n",
        "rows = cursor.fetchall()\n",
        "\n",
        "cursor.close()\n",
        "connection.close()\n",
        "\n",
        "# запись данных в объект DataFrame\n",
        "log_df = pd.DataFrame(rows, columns=(\"id\", \"Date\",\"PID\", \"Log level\", \"Component\", \"Message\"))\n",
        "log_df"
      ]
    },
    {
      "cell_type": "markdown",
      "metadata": {
        "id": "aEln9ZFv1R3o"
      },
      "source": [
        "### Построение графика распределения уровней логирования"
      ]
    },
    {
      "cell_type": "code",
      "execution_count": 7,
      "metadata": {
        "colab": {
          "base_uri": "https://localhost:8080/",
          "height": 452
        },
        "id": "Wjw6H-2RsITz",
        "outputId": "5606c2b2-ca6a-4a21-9dde-a1e7d7b8b9e4"
      },
      "outputs": [
        {
          "data": {
            "image/png": "[encoded data removed]",
            "text/plain": [
              "<Figure size 640x480 with 1 Axes>"
            ]
          },
          "metadata": {},
          "output_type": "display_data"
        }
      ],
      "source": [
        "import matplotlib.pyplot as plt\n",
        "\n",
        "# подсчёт записей с различными уровнями логирования\n",
        "log_level_distrib = log_df['Log level'].value_counts()\n",
        "\n",
        "x = log_level_distrib.keys()\n",
        "y = log_level_distrib.values\n",
        "\n",
        "# более подробные заголовки для графика\n",
        "verbose_xticks = [\"INFO\", \"WARN\", \"ERROR\", \"FATAL\", \"DEBUG\", \"TRACE\"]\n",
        "\n",
        "plt.xticks([0,1,2,3,4,5], verbose_xticks)\n",
        "plt.xticks(rotation=0)\n",
        "plt.xlabel('Уровень логировния')\n",
        "plt.ylabel('Количество записей')\n",
        "plt.bar(x,y)\n",
        "plt.bar(x,y, color = ['green', 'yellow', 'red', 'darkred', 'blue', 'grey'])\n",
        "\n",
        "plt.show()"
      ]
    },
    {
      "cell_type": "markdown",
      "metadata": {
        "id": "NaT3_K345VOX"
      },
      "source": [
        "### Построение графика распределения записей по компонентам, создавшим запись"
      ]
    },
    {
      "cell_type": "code",
      "execution_count": 8,
      "metadata": {
        "colab": {
          "base_uri": "https://localhost:8080/",
          "height": 659
        },
        "id": "Osi9H-nDsd_H",
        "outputId": "2fdfaf88-3468-495e-cde2-e2198b5a9971"
      },
      "outputs": [
        {
          "data": {
            "image/png": "[encoded data removed]",
            "text/plain": [
              "<Figure size 640x480 with 1 Axes>"
            ]
          },
          "metadata": {},
          "output_type": "display_data"
        }
      ],
      "source": [
        "components_distrib = log_df['Component'].value_counts()\n",
        "\n",
        "components_distrib.plot(kind='bar')\n",
        "\n",
        "plt.xlabel('Component')\n",
        "plt.ylabel('Count')\n",
        "plt.show()"
      ]
    },
    {
      "cell_type": "markdown",
      "metadata": {
        "id": "cm_VoY876MCj"
      },
      "source": [
        "### Построение графика распределения предупреждений за время логирования (сообщений с уровнем логирования 'W')"
      ]
    },
    {
      "cell_type": "code",
      "execution_count": 9,
      "metadata": {
        "colab": {
          "base_uri": "https://localhost:8080/",
          "height": 520
        },
        "id": "ll5hKmuTtmaH",
        "outputId": "bf74727a-c467-4ade-c0d6-8f022c7eb553"
      },
      "outputs": [
        {
          "name": "stderr",
          "output_type": "stream",
          "text": [
            "<ipython-input-9-221758a7be83>:5: UserWarning: Could not infer format, so each element will be parsed individually, falling back to `dateutil`. To ensure parsing is consistent and as-expected, please specify a format.\n",
            "  warning_df['Date'] = pd.to_datetime(warning_df['Date'])\n",
            "<ipython-input-9-221758a7be83>:11: FutureWarning: 'T' is deprecated and will be removed in a future version, please use 'min' instead.\n",
            "  warning_count = warning_count.resample('T').sum()\n"
          ]
        },
        {
          "data": {
            "image/png": "[encoded data removed]",
            "text/plain": [
              "<Figure size 640x480 with 1 Axes>"
            ]
          },
          "metadata": {},
          "output_type": "display_data"
        }
      ],
      "source": [
        "# выборка записей-предупреждений\n",
        "warning_df = log_df[log_df['Log level'] == 'WARN'].copy()\n",
        "\n",
        "# конвертация времени в объект datetime\n",
        "warning_df['Date'] = pd.to_datetime(warning_df['Date'])\n",
        "\n",
        "# группировка по времени\n",
        "warning_count = warning_df.groupby('Date').size()\n",
        "\n",
        "# ресэмплинг для группировки по целым секундам для наглядности\n",
        "warning_count = warning_count.resample('T').sum()\n",
        "warning_count = warning_count.fillna(0)\n",
        "\n",
        "plt.plot(warning_count.index, warning_count.values, linestyle='-', color='r')\n",
        "plt.xlabel('Время')\n",
        "plt.ylabel('Предупреждения')\n",
        "plt.grid(True)\n",
        "plt.show()"
      ]
    }
  ],
  "metadata": {
    "colab": {
      "provenance": [],
      "toc_visible": true
    },
    "kernelspec": {
      "display_name": "Python 3",
      "name": "python3"
    },
    "language_info": {
      "name": "python"
    }
  },
  "nbformat": 4,
  "nbformat_minor": 0
}
